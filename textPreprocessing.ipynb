{
 "cells": [
  {
   "cell_type": "code",
   "execution_count": 5,
   "id": "e59800c1-14c3-44c6-8ca2-ba6cd0f57933",
   "metadata": {},
   "outputs": [],
   "source": [
    "import pandas as pd\n",
    "import numpy as np\n",
    "import nltk\n",
    "import string\n",
    "import re\n",
    "from nltk.corpus import stopwords\n",
    "from nltk.stem import WordNetLemmatizer\n",
    "from nltk.tokenize import word_tokenize"
   ]
  },
  {
   "cell_type": "code",
   "execution_count": 6,
   "id": "1cd15635-916a-4e34-9f05-39e1a3e9b0dc",
   "metadata": {},
   "outputs": [
    {
     "name": "stderr",
     "output_type": "stream",
     "text": [
      "[nltk_data] Downloading package stopwords to\n",
      "[nltk_data]     /Users/dheerajkumarbuchala/nltk_data...\n",
      "[nltk_data]   Package stopwords is already up-to-date!\n",
      "[nltk_data] Downloading package punkt to\n",
      "[nltk_data]     /Users/dheerajkumarbuchala/nltk_data...\n",
      "[nltk_data]   Package punkt is already up-to-date!\n",
      "[nltk_data] Downloading package wordnet to\n",
      "[nltk_data]     /Users/dheerajkumarbuchala/nltk_data...\n",
      "[nltk_data]   Package wordnet is already up-to-date!\n"
     ]
    },
    {
     "data": {
      "text/plain": [
       "True"
      ]
     },
     "execution_count": 6,
     "metadata": {},
     "output_type": "execute_result"
    }
   ],
   "source": [
    "nltk.download('stopwords')\n",
    "nltk.download('punkt')\n",
    "nltk.download('wordnet')"
   ]
  },
  {
   "cell_type": "code",
   "execution_count": 7,
   "id": "c0d4b77c-f277-4f3b-bc61-45e1d67c4e96",
   "metadata": {},
   "outputs": [],
   "source": [
    "def dataClean(tweets):\n",
    "    cleaned_tweets = list()\n",
    "    for tweet in tweets:\n",
    "        tweet = str(tweet).encode('ascii', 'ignore').strip()\n",
    "        tweet = str(tweet)\n",
    "        textCleaner = re.compile('(</?[a-zA-Z]+>|https?:\\/\\/[^\\s]*|(^|\\s)RT(\\s|$)|@[^\\s]+|\\d+)')\n",
    "        cleanedTweet = re.sub(textCleaner, ' ', tweet)\n",
    "        cleanedTweet = re.sub('(?<=^|(?<=[^a-zA-Z0-9-_\\.]))@([A-Za-z]+[A-Za-z0-9]+)',' ',cleanedTweet)\n",
    "        cleanedTweet = re.sub('[^\\sa-zA-Z]+','',cleanedTweet)\n",
    "        cleanedTweet = re.sub('\\s+',' ',cleanedTweet)\n",
    "        cleanedTweet = cleanedTweet[1:].strip()\n",
    "        cleaned_tweets.append(cleanedTweet)\n",
    "    return cleaned_tweets"
   ]
  },
  {
   "cell_type": "code",
   "execution_count": 8,
   "id": "53b23554-b593-4cf9-a535-2d7729f1bd8f",
   "metadata": {},
   "outputs": [],
   "source": [
    "def tokenizationAndLemmatization(tweets):\n",
    "    cleaned_tweets = list()\n",
    "    for tweet in tweets:\n",
    "        tweet = tweet.lower()\n",
    "        tokens = word_tokenize(tweet)\n",
    "        stop_words = set(stopwords.words('english'))\n",
    "        tokens = [word for word in tokens if word not in stop_words]\n",
    "    \n",
    "        # Lemmatization\n",
    "        lemmatizer = WordNetLemmatizer()\n",
    "        tokens = [lemmatizer.lemmatize(word) for word in tokens]\n",
    "    \n",
    "        # Rejoin tokens into a cleaned tweet\n",
    "        cleaned_tweet = ' '.join(tokens)\n",
    "    \n",
    "        cleaned_tweets.append(cleaned_tweet)\n",
    "    return cleaned_tweets"
   ]
  }
 ],
 "metadata": {
  "kernelspec": {
   "display_name": "Python 3 (ipykernel)",
   "language": "python",
   "name": "python3"
  },
  "language_info": {
   "codemirror_mode": {
    "name": "ipython",
    "version": 3
   },
   "file_extension": ".py",
   "mimetype": "text/x-python",
   "name": "python",
   "nbconvert_exporter": "python",
   "pygments_lexer": "ipython3",
   "version": "3.11.5"
  }
 },
 "nbformat": 4,
 "nbformat_minor": 5
}
