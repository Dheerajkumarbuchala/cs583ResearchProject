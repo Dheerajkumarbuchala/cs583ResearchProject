{
 "cells": [
  {
   "cell_type": "code",
   "execution_count": 12,
   "id": "d4afbbfb-6b8a-4b01-821d-cf737b76e1f3",
   "metadata": {},
   "outputs": [],
   "source": [
    "import pandas as pd\n",
    "import numpy as np\n",
    "import nltk\n",
    "import string\n",
    "import re\n",
    "from nltk.corpus import stopwords\n",
    "from nltk.stem import WordNetLemmatizer\n",
    "from nltk.tokenize import word_tokenize"
   ]
  },
  {
   "cell_type": "code",
   "execution_count": 13,
   "id": "35ef1b9d-0c70-4325-9301-3b9a577ddf45",
   "metadata": {},
   "outputs": [],
   "source": [
    "import import_ipynb\n",
    "import textPreprocessing"
   ]
  },
  {
   "cell_type": "code",
   "execution_count": 14,
   "id": "bac8043f-0c9a-473a-8354-a6cbe5752832",
   "metadata": {},
   "outputs": [],
   "source": [
    "# Load training data\n",
    "file_path = 'data/training-Obama-Romney-tweets.xlsx'\n",
    "\n",
    "# Load Romney tweets\n",
    "romney_df = pd.read_excel(file_path, sheet_name=\"Romney\")"
   ]
  },
  {
   "cell_type": "code",
   "execution_count": 15,
   "id": "8b82d246-e1a2-4680-bb70-47a37787ec5e",
   "metadata": {},
   "outputs": [
    {
     "name": "stdout",
     "output_type": "stream",
     "text": [
      "\n",
      "Romney Tweets:\n",
      "   Unnamed: 0                 date            time  \\\n",
      "0         NaN  2012-10-16 00:00:00  09:38:08-05:00   \n",
      "1         NaN  2012-10-16 00:00:00  10:22:34-05:00   \n",
      "2         NaN  2012-10-16 00:00:00  10:14:18-05:00   \n",
      "3         NaN  2012-10-16 00:00:00  09:27:16-05:00   \n",
      "4         NaN  2012-10-16 00:00:00  10:11:43-05:00   \n",
      "\n",
      "                                     Anootated tweet Class  Your class label  \n",
      "0  Insidious!<e>Mitt Romney</e>'s Bain Helped Phi...    -1               NaN  \n",
      "1  Senior <e>Romney</e> Advisor Claims <e>Obama</...     2               NaN  \n",
      "2  .@WardBrenda @shortwave8669 @allanbourdius you...    -1               NaN  \n",
      "3  <e>Mitt Romney</e> still doesn't <a>believe</a...    -1               NaN  \n",
      "4  <e>Romney</e>'s <a>tax plan</a> deserves a 2nd...    -1               NaN  \n",
      "No of Romaney tweets :  7200\n"
     ]
    }
   ],
   "source": [
    "# Display the first few rows of Romney dataset to check the data\n",
    "print(\"\\nRomney Tweets:\")\n",
    "print(romney_df.head())\n",
    "print(\"No of Romaney tweets : \", len(romney_df))"
   ]
  },
  {
   "cell_type": "code",
   "execution_count": 16,
   "id": "ec633bde-18a0-4712-885b-22235f1b28f0",
   "metadata": {},
   "outputs": [],
   "source": [
    "valid_classes = [-1, 0, 1]"
   ]
  },
  {
   "cell_type": "code",
   "execution_count": 17,
   "id": "2f09c8cb-e126-488c-8b23-5920c53c7364",
   "metadata": {},
   "outputs": [
    {
     "name": "stdout",
     "output_type": "stream",
     "text": [
      "No of romney tweets after cleaning :  5648\n"
     ]
    }
   ],
   "source": [
    "# Pre-Processing the Romney DataFrame created\n",
    "romney_df = romney_df[romney_df['Class'].isin(valid_classes)]\n",
    "print(\"No of romney tweets after cleaning : \", len(romney_df))"
   ]
  },
  {
   "cell_type": "code",
   "execution_count": 18,
   "id": "15f2aa49-0098-45df-b0aa-b89ea2ca8fa5",
   "metadata": {},
   "outputs": [],
   "source": [
    "romney_anootated_tweets = romney_df['Anootated tweet']\n",
    "romney_assigned_class = romney_df['Class']"
   ]
  },
  {
   "cell_type": "code",
   "execution_count": 19,
   "id": "2539df49-2686-4850-98da-1cec995eb58f",
   "metadata": {},
   "outputs": [],
   "source": [
    "romney_anootated_tweets = romney_anootated_tweets.tolist()\n",
    "romney_assigned_class = romney_assigned_class.tolist()"
   ]
  },
  {
   "cell_type": "code",
   "execution_count": 20,
   "id": "7f13c9ba-39f2-4299-a37d-ce96c7d023d3",
   "metadata": {},
   "outputs": [],
   "source": [
    "romney_cleaned_tweets = textPreprocessing.dataClean(romney_anootated_tweets)\n",
    "#print(romney_cleaned_tweets)"
   ]
  },
  {
   "cell_type": "code",
   "execution_count": 21,
   "id": "733e38e9-e53c-4d4b-a36d-12a4c272aaeb",
   "metadata": {},
   "outputs": [],
   "source": [
    "romney_cleaned_tweets = textPreprocessing.tokenizationAndLemmatization(romney_cleaned_tweets)\n",
    "#print(romney_cleaned_tweets)"
   ]
  },
  {
   "cell_type": "code",
   "execution_count": 22,
   "id": "54123117-de5e-4dd3-978d-3fd369788580",
   "metadata": {},
   "outputs": [],
   "source": [
    "test_file_path = 'data/sample-testdata.xlsx'\n",
    "romney_test_df = pd.read_excel(test_file_path, sheet_name=\"Romney\")"
   ]
  },
  {
   "cell_type": "code",
   "execution_count": 23,
   "id": "4e5d31f1-c984-4872-ba73-94fd8c9d637f",
   "metadata": {},
   "outputs": [
    {
     "name": "stdout",
     "output_type": "stream",
     "text": [
      "\n",
      "Romney Test Tweets:\n",
      "   1  \\\n",
      "0  2   \n",
      "1  3   \n",
      "2  4   \n",
      "\n",
      "  Insidious!<e>Mitt Romney</e>'s Bain Helped Philip Morris Get U.S. High Schoolers <a>Hooked On Cigarettes</a> http://t.co/nMKuFcUq via @HuffPostPol  \n",
      "0  Senior <e>Romney</e> Advisor Claims <e>Obama</...                                                                                                  \n",
      "1  .@WardBrenda @shortwave8669 @allanbourdius you...                                                                                                  \n",
      "2  <e>Mitt Romney</e> still doesn't <a>believe</a...                                                                                                  \n",
      "No of Romaney test tweets :  3\n"
     ]
    }
   ],
   "source": [
    "# Display the first few rows of Romney dataset to check the data\n",
    "print(\"\\nRomney Test Tweets:\")\n",
    "print(romney_test_df.head())\n",
    "print(\"No of Romaney test tweets : \", len(romney_test_df))"
   ]
  },
  {
   "cell_type": "code",
   "execution_count": null,
   "id": "9f2b0716-2d2b-448a-b77e-5bfd98fed77c",
   "metadata": {},
   "outputs": [],
   "source": []
  },
  {
   "cell_type": "code",
   "execution_count": null,
   "id": "e749ea7a-d4cf-4239-858e-f9a543727909",
   "metadata": {},
   "outputs": [],
   "source": []
  },
  {
   "cell_type": "code",
   "execution_count": null,
   "id": "9c2eb84a-cea8-4938-8cb3-5eff96684a01",
   "metadata": {},
   "outputs": [],
   "source": []
  },
  {
   "cell_type": "code",
   "execution_count": null,
   "id": "2b90baeb-f96c-4bf4-b074-c83da7362ed4",
   "metadata": {},
   "outputs": [],
   "source": []
  },
  {
   "cell_type": "code",
   "execution_count": null,
   "id": "d125bb5f-8b49-43fc-b5de-b89f4cca8760",
   "metadata": {},
   "outputs": [],
   "source": []
  }
 ],
 "metadata": {
  "kernelspec": {
   "display_name": "Python 3 (ipykernel)",
   "language": "python",
   "name": "python3"
  },
  "language_info": {
   "codemirror_mode": {
    "name": "ipython",
    "version": 3
   },
   "file_extension": ".py",
   "mimetype": "text/x-python",
   "name": "python",
   "nbconvert_exporter": "python",
   "pygments_lexer": "ipython3",
   "version": "3.11.5"
  }
 },
 "nbformat": 4,
 "nbformat_minor": 5
}
