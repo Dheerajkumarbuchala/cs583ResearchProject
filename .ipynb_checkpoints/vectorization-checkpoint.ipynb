{
 "cells": [
  {
   "cell_type": "code",
   "execution_count": 2,
   "id": "c2550d42-5207-4281-86dd-924cb11488da",
   "metadata": {},
   "outputs": [],
   "source": [
    "from sklearn.feature_extraction.text import TfidfVectorizer"
   ]
  },
  {
   "cell_type": "code",
   "execution_count": 3,
   "id": "710d23f5-c4cc-47c5-a226-18e4aa21ca08",
   "metadata": {},
   "outputs": [
    {
     "name": "stdout",
     "output_type": "stream",
     "text": [
      "importing Jupyter notebook from obama.ipynb\n",
      "importing Jupyter notebook from textPreprocessing.ipynb\n"
     ]
    },
    {
     "name": "stderr",
     "output_type": "stream",
     "text": [
      "[nltk_data] Downloading package stopwords to\n",
      "[nltk_data]     /Users/dheerajkumarbuchala/nltk_data...\n",
      "[nltk_data]   Package stopwords is already up-to-date!\n",
      "[nltk_data] Downloading package punkt to\n",
      "[nltk_data]     /Users/dheerajkumarbuchala/nltk_data...\n",
      "[nltk_data]   Package punkt is already up-to-date!\n",
      "[nltk_data] Downloading package wordnet to\n",
      "[nltk_data]     /Users/dheerajkumarbuchala/nltk_data...\n",
      "[nltk_data]   Package wordnet is already up-to-date!\n"
     ]
    },
    {
     "name": "stdout",
     "output_type": "stream",
     "text": [
      "Obama Tweets:\n",
      "   Unnamed: 0                 date            time  \\\n",
      "0         NaN  2012-10-16 00:00:00  10:28:53-05:00   \n",
      "1         NaN  2016-12-10 00:00:00  10:09:00-05:00   \n",
      "2         NaN  2012-10-16 00:00:00  10:04:30-05:00   \n",
      "3         NaN  2012-10-16 00:00:00  10:00:36-05:00   \n",
      "4         NaN  2012-10-16 00:00:00  09:50:08-05:00   \n",
      "\n",
      "                                     Anootated tweet Class  Your class label  \n",
      "0  Kirkpatrick, who wore a baseball cap embroider...     0               NaN  \n",
      "1  Question: If <e>Romney</e> and <e>Obama</e> ha...     2               NaN  \n",
      "2  #<e>obama</e> debates that Cracker Ass Cracker...     1               NaN  \n",
      "3  RT @davewiner Slate: Blame <e>Obama</e> for fo...     2               NaN  \n",
      "4  @Hollivan @hereistheanswer  Youre missing the ...     0               NaN  \n",
      "No of obama tweets :  7198\n",
      "No of obama tweets after cleaning :  5471\n",
      "importing Jupyter notebook from romney.ipynb\n",
      "\n",
      "Romney Tweets:\n",
      "   Unnamed: 0                 date            time  \\\n",
      "0         NaN  2012-10-16 00:00:00  09:38:08-05:00   \n",
      "1         NaN  2012-10-16 00:00:00  10:22:34-05:00   \n",
      "2         NaN  2012-10-16 00:00:00  10:14:18-05:00   \n",
      "3         NaN  2012-10-16 00:00:00  09:27:16-05:00   \n",
      "4         NaN  2012-10-16 00:00:00  10:11:43-05:00   \n",
      "\n",
      "                                     Anootated tweet Class  Your class label  \n",
      "0  Insidious!<e>Mitt Romney</e>'s Bain Helped Phi...    -1               NaN  \n",
      "1  Senior <e>Romney</e> Advisor Claims <e>Obama</...     2               NaN  \n",
      "2  .@WardBrenda @shortwave8669 @allanbourdius you...    -1               NaN  \n",
      "3  <e>Mitt Romney</e> still doesn't <a>believe</a...    -1               NaN  \n",
      "4  <e>Romney</e>'s <a>tax plan</a> deserves a 2nd...    -1               NaN  \n",
      "No of Romaney tweets :  7200\n",
      "No of romney tweets after cleaning :  5648\n"
     ]
    }
   ],
   "source": [
    "import import_ipynb\n",
    "import obama\n",
    "import romney"
   ]
  },
  {
   "cell_type": "code",
   "execution_count": null,
   "id": "f1e0aa53-3a19-4a08-9683-8113b94d1ead",
   "metadata": {},
   "outputs": [],
   "source": [
    "print(obama.obama_cleaned_tweets)"
   ]
  }
 ],
 "metadata": {
  "kernelspec": {
   "display_name": "Python 3 (ipykernel)",
   "language": "python",
   "name": "python3"
  },
  "language_info": {
   "codemirror_mode": {
    "name": "ipython",
    "version": 3
   },
   "file_extension": ".py",
   "mimetype": "text/x-python",
   "name": "python",
   "nbconvert_exporter": "python",
   "pygments_lexer": "ipython3",
   "version": "3.11.5"
  }
 },
 "nbformat": 4,
 "nbformat_minor": 5
}
