{
 "cells": [
  {
   "cell_type": "code",
   "execution_count": 1,
   "id": "46a71b68-a2aa-4934-8640-11f00e02621a",
   "metadata": {},
   "outputs": [],
   "source": [
    "import pandas as pd\n",
    "import numpy as np\n",
    "import nltk\n",
    "import string\n",
    "import re\n",
    "from nltk.corpus import stopwords\n",
    "from nltk.stem import WordNetLemmatizer\n",
    "from nltk.tokenize import word_tokenize"
   ]
  },
  {
   "cell_type": "code",
   "execution_count": 2,
   "id": "152a2a92-1247-43f1-85fb-6c842c020440",
   "metadata": {},
   "outputs": [
    {
     "name": "stdout",
     "output_type": "stream",
     "text": [
      "importing Jupyter notebook from textPreprocessing.ipynb\n"
     ]
    },
    {
     "name": "stderr",
     "output_type": "stream",
     "text": [
      "[nltk_data] Downloading package stopwords to\n",
      "[nltk_data]     /Users/dheerajkumarbuchala/nltk_data...\n",
      "[nltk_data]   Package stopwords is already up-to-date!\n",
      "[nltk_data] Downloading package punkt to\n",
      "[nltk_data]     /Users/dheerajkumarbuchala/nltk_data...\n",
      "[nltk_data]   Package punkt is already up-to-date!\n",
      "[nltk_data] Downloading package wordnet to\n",
      "[nltk_data]     /Users/dheerajkumarbuchala/nltk_data...\n",
      "[nltk_data]   Package wordnet is already up-to-date!\n"
     ]
    }
   ],
   "source": [
    "import import_ipynb\n",
    "import textPreprocessing"
   ]
  },
  {
   "cell_type": "code",
   "execution_count": 3,
   "id": "5ffc8eef-3ee5-4a05-9a9b-2e9728ce5914",
   "metadata": {},
   "outputs": [],
   "source": [
    "# Load training data\n",
    "file_path = 'data/training-Obama-Romney-tweets.xlsx'\n",
    "\n",
    "# Load Obama tweets\n",
    "obama_df = pd.read_excel(file_path, sheet_name=\"Obama\")"
   ]
  },
  {
   "cell_type": "code",
   "execution_count": 4,
   "id": "125b7823-607f-46c1-a6d6-32ac72335e73",
   "metadata": {},
   "outputs": [
    {
     "name": "stdout",
     "output_type": "stream",
     "text": [
      "Obama Tweets:\n",
      "   Unnamed: 0                 date            time  \\\n",
      "0         NaN  2012-10-16 00:00:00  10:28:53-05:00   \n",
      "1         NaN  2016-12-10 00:00:00  10:09:00-05:00   \n",
      "2         NaN  2012-10-16 00:00:00  10:04:30-05:00   \n",
      "3         NaN  2012-10-16 00:00:00  10:00:36-05:00   \n",
      "4         NaN  2012-10-16 00:00:00  09:50:08-05:00   \n",
      "\n",
      "                                     Anootated tweet Class  Your class label  \n",
      "0  Kirkpatrick, who wore a baseball cap embroider...     0               NaN  \n",
      "1  Question: If <e>Romney</e> and <e>Obama</e> ha...     2               NaN  \n",
      "2  #<e>obama</e> debates that Cracker Ass Cracker...     1               NaN  \n",
      "3  RT @davewiner Slate: Blame <e>Obama</e> for fo...     2               NaN  \n",
      "4  @Hollivan @hereistheanswer  Youre missing the ...     0               NaN  \n",
      "No of obama tweets :  7198\n"
     ]
    }
   ],
   "source": [
    "# Display the first few rows of Obama dataset to check the data\n",
    "print(\"Obama Tweets:\")\n",
    "print(obama_df.head())\n",
    "print(\"No of obama tweets : \", len(obama_df))"
   ]
  },
  {
   "cell_type": "code",
   "execution_count": 5,
   "id": "f6d26085-55d8-412c-9e6a-ab0d543e515e",
   "metadata": {},
   "outputs": [],
   "source": [
    "valid_classes = [-1, 0, 1]"
   ]
  },
  {
   "cell_type": "code",
   "execution_count": 6,
   "id": "976de980-1093-4498-a6a4-f471b473e108",
   "metadata": {},
   "outputs": [
    {
     "name": "stdout",
     "output_type": "stream",
     "text": [
      "No of obama tweets after cleaning :  5471\n"
     ]
    }
   ],
   "source": [
    "# Pre-Processing the Obama DataFrame created\n",
    "obama_df = obama_df[obama_df['Class'].isin(valid_classes)]\n",
    "print(\"No of obama tweets after cleaning : \", len(obama_df))"
   ]
  },
  {
   "cell_type": "code",
   "execution_count": 7,
   "id": "257c2b2b-ebd2-4adf-a0d3-427192b784ef",
   "metadata": {},
   "outputs": [],
   "source": [
    "obama_anootated_tweets = obama_df['Anootated tweet']\n",
    "obama_assigned_class = obama_df['Class']"
   ]
  },
  {
   "cell_type": "code",
   "execution_count": 8,
   "id": "b1b79a65-566b-4b5f-bc88-7e1df39ba775",
   "metadata": {},
   "outputs": [],
   "source": [
    "obama_anootated_tweets = obama_anootated_tweets.tolist()\n",
    "obama_assigned_class = obama_assigned_class.tolist()"
   ]
  },
  {
   "cell_type": "code",
   "execution_count": 9,
   "id": "1d8ff1ba-02ac-4c6e-955e-41e15930d04f",
   "metadata": {},
   "outputs": [],
   "source": [
    "obama_cleaned_tweets = textPreprocessing.dataClean(obama_anootated_tweets)\n",
    "#print(obama_cleaned_tweets)"
   ]
  },
  {
   "cell_type": "code",
   "execution_count": 10,
   "id": "55f8c909-7f93-4664-9cea-5de57e92a954",
   "metadata": {},
   "outputs": [],
   "source": [
    "obama_cleaned_tweets_final = textPreprocessing.tokenizationAndLemmatization(obama_cleaned_tweets)\n",
    "#print(obama_cleaned_tweets.head())"
   ]
  },
  {
   "cell_type": "code",
   "execution_count": 11,
   "id": "da66c890-42cd-4b08-9138-cde5328a22fc",
   "metadata": {},
   "outputs": [],
   "source": [
    "test_file_path = 'data/sample-testdata.xlsx'\n",
    "obama_test_df = pd.read_excel(test_file_path, sheet_name=\"Obama\")"
   ]
  },
  {
   "cell_type": "code",
   "execution_count": 12,
   "id": "e24e643b-334f-4b22-9de5-e88c30afd484",
   "metadata": {},
   "outputs": [
    {
     "name": "stdout",
     "output_type": "stream",
     "text": [
      "Obama Test Tweets:\n",
      "   Unnamed: 0                 date            time  \\\n",
      "0         NaN  2012-10-16 00:00:00  10:28:53-05:00   \n",
      "1         NaN  2016-12-10 00:00:00  10:09:00-05:00   \n",
      "2         NaN  2012-10-16 00:00:00  10:04:30-05:00   \n",
      "3         NaN  2012-10-16 00:00:00  10:00:36-05:00   \n",
      "4         NaN  2012-10-16 00:00:00  09:50:08-05:00   \n",
      "\n",
      "                                     Anootated tweet Class  Your class label  \n",
      "0  Kirkpatrick, who wore a baseball cap embroider...     0               NaN  \n",
      "1  Question: If <e>Romney</e> and <e>Obama</e> ha...     2               NaN  \n",
      "2  #<e>obama</e> debates that Cracker Ass Cracker...     1               NaN  \n",
      "3  RT @davewiner Slate: Blame <e>Obama</e> for fo...     2               NaN  \n",
      "4  @Hollivan @hereistheanswer  Youre missing the ...     0               NaN  \n",
      "No of obama test tweets :  7198\n"
     ]
    }
   ],
   "source": [
    "# Display the first few rows of Obama test dataset to check the data\n",
    "print(\"Obama Test Tweets:\")\n",
    "print(obama_test_df.head())\n",
    "print(\"No of obama test tweets : \", len(obama_test_df))"
   ]
  },
  {
   "cell_type": "code",
   "execution_count": 13,
   "id": "de39a002-fbc8-462d-97d1-e0449a197a79",
   "metadata": {},
   "outputs": [
    {
     "name": "stdout",
     "output_type": "stream",
     "text": [
      "No of obama testvtweets after cleaning :  5471\n"
     ]
    }
   ],
   "source": [
    "obama_test_df = obama_test_df[obama_test_df['Class'].isin(valid_classes)]\n",
    "print(\"No of obama testvtweets after cleaning : \", len(obama_test_df))"
   ]
  },
  {
   "cell_type": "code",
   "execution_count": 14,
   "id": "66b33e88-dceb-4dff-a7f1-1d1f8fc4c70a",
   "metadata": {},
   "outputs": [],
   "source": [
    "obama_test_anootated_tweets = obama_test_df['Anootated tweet']\n",
    "obama_test_assigned_class = obama_test_df['Class']"
   ]
  },
  {
   "cell_type": "code",
   "execution_count": 15,
   "id": "a6f052be-4a89-4a49-9cd8-610905df4f87",
   "metadata": {},
   "outputs": [],
   "source": [
    "obama_test_anootated_tweets = obama_test_anootated_tweets.tolist()\n",
    "obama_test_assigned_class = obama_test_assigned_class.tolist()"
   ]
  },
  {
   "cell_type": "code",
   "execution_count": 16,
   "id": "b5b6056f-a7d3-4501-90c0-4f2ec6d770ed",
   "metadata": {},
   "outputs": [],
   "source": [
    "obama_test_cleaned_tweets = textPreprocessing.dataClean(obama_test_anootated_tweets)\n",
    "#print(obama_test_cleaned_tweets)"
   ]
  },
  {
   "cell_type": "code",
   "execution_count": 17,
   "id": "1855499e-9989-4fba-969f-fe394ec45418",
   "metadata": {},
   "outputs": [],
   "source": [
    "obama_test_cleaned_tweets_final = textPreprocessing.tokenizationAndLemmatization(obama_test_cleaned_tweets)\n",
    "#print(obama_cleaned_tweets.head())"
   ]
  }
 ],
 "metadata": {
  "kernelspec": {
   "display_name": "Python 3 (ipykernel)",
   "language": "python",
   "name": "python3"
  },
  "language_info": {
   "codemirror_mode": {
    "name": "ipython",
    "version": 3
   },
   "file_extension": ".py",
   "mimetype": "text/x-python",
   "name": "python",
   "nbconvert_exporter": "python",
   "pygments_lexer": "ipython3",
   "version": "3.11.5"
  }
 },
 "nbformat": 4,
 "nbformat_minor": 5
}
