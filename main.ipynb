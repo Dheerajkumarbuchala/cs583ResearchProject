{
 "cells": [
  {
   "cell_type": "code",
   "execution_count": 1,
   "id": "fed6bc0b-96de-400c-873a-d37c4591e741",
   "metadata": {},
   "outputs": [],
   "source": [
    "import pandas as pd\n",
    "import numpy as np\n",
    "import nltk\n",
    "import string\n",
    "import re\n",
    "from nltk.corpus import stopwords\n",
    "from nltk.stem import WordNetLemmatizer\n",
    "from nltk.tokenize import word_tokenize"
   ]
  },
  {
   "cell_type": "code",
   "execution_count": 2,
   "id": "9a3f57fc-4399-44e8-85bb-92260b1d467f",
   "metadata": {},
   "outputs": [
    {
     "name": "stdout",
     "output_type": "stream",
     "text": [
      "importing Jupyter notebook from textPreprocessing.ipynb\n"
     ]
    },
    {
     "name": "stderr",
     "output_type": "stream",
     "text": [
      "[nltk_data] Downloading package stopwords to\n",
      "[nltk_data]     /Users/dheerajkumarbuchala/nltk_data...\n",
      "[nltk_data]   Package stopwords is already up-to-date!\n",
      "[nltk_data] Downloading package punkt to\n",
      "[nltk_data]     /Users/dheerajkumarbuchala/nltk_data...\n",
      "[nltk_data]   Package punkt is already up-to-date!\n",
      "[nltk_data] Downloading package wordnet to\n",
      "[nltk_data]     /Users/dheerajkumarbuchala/nltk_data...\n",
      "[nltk_data]   Package wordnet is already up-to-date!\n"
     ]
    }
   ],
   "source": [
    "import import_ipynb\n",
    "import textPreprocessing"
   ]
  },
  {
   "cell_type": "code",
   "execution_count": 3,
   "id": "b13721a1-4f8a-4a6f-8ed9-badd53432e2e",
   "metadata": {},
   "outputs": [],
   "source": [
    "file_path = 'data/training-Obama-Romney-tweets.xlsx'\n",
    "\n",
    "obama_df = pd.read_excel(file_path, sheet_name=\"Obama\")\n",
    "romney_df = pd.read_excel(file_path, sheet_name=\"Romney\")"
   ]
  },
  {
   "cell_type": "code",
   "execution_count": 4,
   "id": "116bcfc2-45a0-4113-be46-2198f3c6d665",
   "metadata": {},
   "outputs": [
    {
     "name": "stdout",
     "output_type": "stream",
     "text": [
      "   Unnamed: 0                 date            time  \\\n",
      "0         NaN  2012-10-16 00:00:00  10:28:53-05:00   \n",
      "1         NaN  2016-12-10 00:00:00  10:09:00-05:00   \n",
      "2         NaN  2012-10-16 00:00:00  10:04:30-05:00   \n",
      "3         NaN  2012-10-16 00:00:00  10:00:36-05:00   \n",
      "4         NaN  2012-10-16 00:00:00  09:50:08-05:00   \n",
      "\n",
      "                                     Anootated tweet Class  Your class label  \n",
      "0  Kirkpatrick, who wore a baseball cap embroider...     0               NaN  \n",
      "1  Question: If <e>Romney</e> and <e>Obama</e> ha...     2               NaN  \n",
      "2  #<e>obama</e> debates that Cracker Ass Cracker...     1               NaN  \n",
      "3  RT @davewiner Slate: Blame <e>Obama</e> for fo...     2               NaN  \n",
      "4  @Hollivan @hereistheanswer  Youre missing the ...     0               NaN  \n",
      "Initial no of tweets :  7198\n"
     ]
    }
   ],
   "source": [
    "print(obama_df.head())\n",
    "\n",
    "print(\"Initial no of tweets : \" ,len(obama_df))"
   ]
  },
  {
   "cell_type": "code",
   "execution_count": 5,
   "id": "73c3eeab-c9f0-4e58-9793-edbdfeb10367",
   "metadata": {},
   "outputs": [
    {
     "name": "stdout",
     "output_type": "stream",
     "text": [
      "   Unnamed: 0                 date            time  \\\n",
      "0         NaN  2012-10-16 00:00:00  09:38:08-05:00   \n",
      "1         NaN  2012-10-16 00:00:00  10:22:34-05:00   \n",
      "2         NaN  2012-10-16 00:00:00  10:14:18-05:00   \n",
      "3         NaN  2012-10-16 00:00:00  09:27:16-05:00   \n",
      "4         NaN  2012-10-16 00:00:00  10:11:43-05:00   \n",
      "\n",
      "                                     Anootated tweet Class  Your class label  \n",
      "0  Insidious!<e>Mitt Romney</e>'s Bain Helped Phi...    -1               NaN  \n",
      "1  Senior <e>Romney</e> Advisor Claims <e>Obama</...     2               NaN  \n",
      "2  .@WardBrenda @shortwave8669 @allanbourdius you...    -1               NaN  \n",
      "3  <e>Mitt Romney</e> still doesn't <a>believe</a...    -1               NaN  \n",
      "4  <e>Romney</e>'s <a>tax plan</a> deserves a 2nd...    -1               NaN  \n",
      "Initial no of tweets :  7200\n"
     ]
    }
   ],
   "source": [
    "print(romney_df.head())\n",
    "\n",
    "print(\"Initial no of tweets : \" ,len(romney_df))"
   ]
  },
  {
   "cell_type": "code",
   "execution_count": 6,
   "id": "8630e840-ea14-4419-8d1c-480a78190413",
   "metadata": {},
   "outputs": [],
   "source": [
    "valid_classes = [-1, 0, 1]"
   ]
  },
  {
   "cell_type": "code",
   "execution_count": 7,
   "id": "f910fc60-a303-49ac-8f6a-59243dada598",
   "metadata": {},
   "outputs": [
    {
     "name": "stdout",
     "output_type": "stream",
     "text": [
      "No of obama tweets after removing invalid classes :  5471\n"
     ]
    }
   ],
   "source": [
    "# Pre-Processing the Obama DataFrame created\n",
    "obama_df = obama_df[obama_df['Class'].isin(valid_classes)]\n",
    "print(\"No of obama tweets after removing invalid classes : \", len(obama_df))"
   ]
  },
  {
   "cell_type": "code",
   "execution_count": 8,
   "id": "31c97f97-dcfb-43a9-b892-eae018ee5154",
   "metadata": {},
   "outputs": [
    {
     "name": "stdout",
     "output_type": "stream",
     "text": [
      "No of romney tweets after removing invalid classes :  5648\n"
     ]
    }
   ],
   "source": [
    "# Pre-Processing the Romney DataFrame created\n",
    "romney_df = romney_df[romney_df['Class'].isin(valid_classes)]\n",
    "print(\"No of romney tweets after removing invalid classes : \", len(romney_df))"
   ]
  },
  {
   "cell_type": "code",
   "execution_count": 9,
   "id": "fc1fee2e-38b6-426b-8290-1527fcd3767c",
   "metadata": {},
   "outputs": [],
   "source": [
    "obama_anootated_tweets = obama_df['Anootated tweet']\n",
    "obama_assigned_class = obama_df['Class']"
   ]
  },
  {
   "cell_type": "code",
   "execution_count": 10,
   "id": "e5316e95-66c5-429c-ac56-9f3c6ad30305",
   "metadata": {},
   "outputs": [],
   "source": [
    "romney_anootated_tweets = romney_df['Anootated tweet']\n",
    "romney_assigned_class = romney_df['Class']"
   ]
  },
  {
   "cell_type": "code",
   "execution_count": 11,
   "id": "6d9e7ea4-4c10-4776-b851-e5b36b5949b3",
   "metadata": {},
   "outputs": [],
   "source": [
    "obama_anootated_tweets = obama_anootated_tweets.tolist()\n",
    "obama_assigned_class = obama_assigned_class.tolist()"
   ]
  },
  {
   "cell_type": "code",
   "execution_count": 12,
   "id": "1d31a448-6841-4198-89fd-48d2bb938fd9",
   "metadata": {},
   "outputs": [],
   "source": [
    "romney_anootated_tweets = romney_anootated_tweets.tolist()\n",
    "romney_assigned_class = romney_assigned_class.tolist()"
   ]
  },
  {
   "cell_type": "code",
   "execution_count": 13,
   "id": "4d43f5bd-0993-4e4b-8fd8-a75c235c23ea",
   "metadata": {},
   "outputs": [],
   "source": [
    "obama_cleaned_tweets = textPreprocessing.dataClean(obama_anootated_tweets)\n",
    "romney_cleaned_tweets = textPreprocessing.dataClean(romney_anootated_tweets)"
   ]
  },
  {
   "cell_type": "code",
   "execution_count": 14,
   "id": "0d16b11e-2f68-46af-90eb-7b22fdcf7a56",
   "metadata": {},
   "outputs": [],
   "source": [
    "obama_cleaned_tweets_final = textPreprocessing.tokenizationAndLemmatization(obama_cleaned_tweets)\n",
    "romney_cleaned_tweets_final = textPreprocessing.tokenizationAndLemmatization(romney_cleaned_tweets)"
   ]
  },
  {
   "cell_type": "code",
   "execution_count": 15,
   "id": "8bc55200-9de1-4e97-a920-9c7b2045ba64",
   "metadata": {},
   "outputs": [],
   "source": [
    "test_file_path = 'data/sample-testdata.xlsx'\n",
    "\n",
    "obama_test_df = pd.read_excel(test_file_path, sheet_name=\"Obama\")\n",
    "romney_test_df = pd.read_excel(test_file_path, sheet_name=\"Romney\")"
   ]
  },
  {
   "cell_type": "code",
   "execution_count": 16,
   "id": "10272b38-efd7-49a1-840f-5559551c33af",
   "metadata": {},
   "outputs": [
    {
     "name": "stdout",
     "output_type": "stream",
     "text": [
      "   Unnamed: 0                 date            time  \\\n",
      "0         NaN  2012-10-16 00:00:00  10:28:53-05:00   \n",
      "1         NaN  2016-12-10 00:00:00  10:09:00-05:00   \n",
      "2         NaN  2012-10-16 00:00:00  10:04:30-05:00   \n",
      "3         NaN  2012-10-16 00:00:00  10:00:36-05:00   \n",
      "4         NaN  2012-10-16 00:00:00  09:50:08-05:00   \n",
      "\n",
      "                                     Anootated tweet Class  Your class label  \n",
      "0  Kirkpatrick, who wore a baseball cap embroider...     0               NaN  \n",
      "1  Question: If <e>Romney</e> and <e>Obama</e> ha...     2               NaN  \n",
      "2  #<e>obama</e> debates that Cracker Ass Cracker...     1               NaN  \n",
      "3  RT @davewiner Slate: Blame <e>Obama</e> for fo...     2               NaN  \n",
      "4  @Hollivan @hereistheanswer  Youre missing the ...     0               NaN  \n",
      "No of obama test tweets :  7198\n"
     ]
    }
   ],
   "source": [
    "print(obama_test_df.head())\n",
    "print(\"No of obama test tweets : \", len(obama_test_df))"
   ]
  },
  {
   "cell_type": "code",
   "execution_count": 17,
   "id": "07abed34-dfcf-4e6b-a5f0-d6ea27cc2087",
   "metadata": {},
   "outputs": [
    {
     "name": "stdout",
     "output_type": "stream",
     "text": [
      "   Unnamed: 0                                    Anootated tweet\n",
      "0           1  Insidious!<e>Mitt Romney</e>'s Bain Helped Phi...\n",
      "1           2  Senior <e>Romney</e> Advisor Claims <e>Obama</...\n",
      "2           3  .@WardBrenda @shortwave8669 @allanbourdius you...\n",
      "3           4  <e>Mitt Romney</e> still doesn't <a>believe</a...\n",
      "No of Romaney test tweets :  4\n"
     ]
    }
   ],
   "source": [
    "print(romney_test_df.head())\n",
    "print(\"No of Romaney test tweets : \", len(romney_test_df))"
   ]
  },
  {
   "cell_type": "code",
   "execution_count": 18,
   "id": "0579a57a-0b8d-4fef-b603-67e9a8566998",
   "metadata": {},
   "outputs": [],
   "source": [
    "obama_test_anootated_tweets = obama_test_df['Anootated tweet']\n",
    "romney_test_anootated_tweets = romney_test_df['Anootated tweet']"
   ]
  },
  {
   "cell_type": "code",
   "execution_count": 19,
   "id": "9572fcab-2295-4241-a172-8e7776eff543",
   "metadata": {},
   "outputs": [],
   "source": [
    "obama_test_anootated_tweets = obama_test_anootated_tweets.tolist()\n",
    "romney_test_anootated_tweets = romney_test_anootated_tweets.tolist()"
   ]
  },
  {
   "cell_type": "code",
   "execution_count": 20,
   "id": "e3b07063-b976-4452-b6de-1aca92ff83d1",
   "metadata": {},
   "outputs": [],
   "source": [
    "obama_test_cleaned_tweets = textPreprocessing.dataClean(obama_test_anootated_tweets)\n",
    "obama_test_cleaned_tweets_final = textPreprocessing.tokenizationAndLemmatization(obama_test_cleaned_tweets)"
   ]
  },
  {
   "cell_type": "code",
   "execution_count": 21,
   "id": "868147bc-f878-4249-850b-84f54598f943",
   "metadata": {},
   "outputs": [],
   "source": [
    "romney_test_cleaned_tweets = textPreprocessing.dataClean(romney_test_anootated_tweets)\n",
    "romney_test_cleaned_tweets_final = textPreprocessing.tokenizationAndLemmatization(romney_test_anootated_tweets)"
   ]
  },
  {
   "cell_type": "code",
   "execution_count": 22,
   "id": "5a086eef-e6d8-4651-abb7-d0bfd1a2a718",
   "metadata": {},
   "outputs": [],
   "source": [
    "from sklearn.feature_extraction.text import TfidfVectorizer"
   ]
  },
  {
   "cell_type": "code",
   "execution_count": 26,
   "id": "2bd1423e-a0e7-4739-9ee8-61c6576b7433",
   "metadata": {},
   "outputs": [],
   "source": [
    "combined_training_tweets = obama_cleaned_tweets_final + romney_cleaned_tweets_final"
   ]
  },
  {
   "cell_type": "code",
   "execution_count": 27,
   "id": "f7ff3afd-8055-418c-8166-d0537a861a5a",
   "metadata": {},
   "outputs": [],
   "source": [
    "combined_testing_tweets = obama_test_cleaned_tweets_final + romney_test_cleaned_tweets_final"
   ]
  },
  {
   "cell_type": "code",
   "execution_count": 28,
   "id": "1eb04698-5a06-4341-9668-755180b47c40",
   "metadata": {},
   "outputs": [],
   "source": [
    "max_features = 5000\n",
    "tfidf_vectorizer = TfidfVectorizer(max_features=max_features)"
   ]
  },
  {
   "cell_type": "code",
   "execution_count": 29,
   "id": "a36e52da-eb45-4024-b2c3-d7d8ce8af99b",
   "metadata": {},
   "outputs": [
    {
     "name": "stdout",
     "output_type": "stream",
     "text": [
      "TF-IDF Training Features:\n",
      "   aaron   ab  abbas  abc  ability  able  abortion  abroad  absent  absentee  \\\n",
      "0    0.0  0.0    0.0  0.0      0.0   0.0       0.0     0.0     0.0       0.0   \n",
      "1    0.0  0.0    0.0  0.0      0.0   0.0       0.0     0.0     0.0       0.0   \n",
      "2    0.0  0.0    0.0  0.0      0.0   0.0       0.0     0.0     0.0       0.0   \n",
      "3    0.0  0.0    0.0  0.0      0.0   0.0       0.0     0.0     0.0       0.0   \n",
      "4    0.0  0.0    0.0  0.0      0.0   0.0       0.0     0.0     0.0       0.0   \n",
      "\n",
      "   ...   yu  yuck  yum  yup  zach  zeleny  zelig  zero  zogby  zombie  \n",
      "0  ...  0.0   0.0  0.0  0.0   0.0     0.0    0.0   0.0    0.0     0.0  \n",
      "1  ...  0.0   0.0  0.0  0.0   0.0     0.0    0.0   0.0    0.0     0.0  \n",
      "2  ...  0.0   0.0  0.0  0.0   0.0     0.0    0.0   0.0    0.0     0.0  \n",
      "3  ...  0.0   0.0  0.0  0.0   0.0     0.0    0.0   0.0    0.0     0.0  \n",
      "4  ...  0.0   0.0  0.0  0.0   0.0     0.0    0.0   0.0    0.0     0.0  \n",
      "\n",
      "[5 rows x 5000 columns]\n",
      "\n",
      "TF-IDF Testing Features:\n",
      "   aaron   ab  abbas  abc  ability  able  abortion  abroad  absent  absentee  \\\n",
      "0    0.0  0.0    0.0  0.0      0.0   0.0       0.0     0.0     0.0       0.0   \n",
      "1    0.0  0.0    0.0  0.0      0.0   0.0       0.0     0.0     0.0       0.0   \n",
      "2    0.0  0.0    0.0  0.0      0.0   0.0       0.0     0.0     0.0       0.0   \n",
      "3    0.0  0.0    0.0  0.0      0.0   0.0       0.0     0.0     0.0       0.0   \n",
      "4    0.0  0.0    0.0  0.0      0.0   0.0       0.0     0.0     0.0       0.0   \n",
      "\n",
      "   ...   yu  yuck  yum  yup  zach  zeleny  zelig  zero  zogby  zombie  \n",
      "0  ...  0.0   0.0  0.0  0.0   0.0     0.0    0.0   0.0    0.0     0.0  \n",
      "1  ...  0.0   0.0  0.0  0.0   0.0     0.0    0.0   0.0    0.0     0.0  \n",
      "2  ...  0.0   0.0  0.0  0.0   0.0     0.0    0.0   0.0    0.0     0.0  \n",
      "3  ...  0.0   0.0  0.0  0.0   0.0     0.0    0.0   0.0    0.0     0.0  \n",
      "4  ...  0.0   0.0  0.0  0.0   0.0     0.0    0.0   0.0    0.0     0.0  \n",
      "\n",
      "[5 rows x 5000 columns]\n"
     ]
    }
   ],
   "source": [
    "tfidf_training_features = tfidf_vectorizer.fit_transform(combined_training_tweets).toarray()\n",
    "\n",
    "# Create a DataFrame with TF-IDF features for training\n",
    "tfidf_training_df = pd.DataFrame(tfidf_training_features, columns=tfidf_vectorizer.get_feature_names_out())\n",
    "\n",
    "# Transform the vectorizer on the preprocessed testing tweets\n",
    "tfidf_testing_features = tfidf_vectorizer.transform(combined_testing_tweets).toarray()\n",
    "\n",
    "# Create a DataFrame with TF-IDF features for testing\n",
    "tfidf_testing_df = pd.DataFrame(tfidf_testing_features, columns=tfidf_vectorizer.get_feature_names_out())\n",
    "\n",
    "# Display the TF-IDF features for training and testing\n",
    "print(\"TF-IDF Training Features:\")\n",
    "print(tfidf_training_df.head())\n",
    "\n",
    "print(\"\\nTF-IDF Testing Features:\")\n",
    "print(tfidf_testing_df.head())"
   ]
  },
  {
   "cell_type": "code",
   "execution_count": 36,
   "id": "231541cb-ec87-41c0-915e-f3e5433fb45e",
   "metadata": {},
   "outputs": [
    {
     "name": "stdout",
     "output_type": "stream",
     "text": [
      "\n",
      "Obama Model Evaluation:\n",
      "[0 0 1 ... 0 0 1]\n",
      "\n",
      "Romney Model Evaluation:\n",
      "[-1 -1 -1 -1]\n"
     ]
    }
   ],
   "source": [
    "from sklearn.linear_model import LogisticRegression\n",
    "from sklearn.metrics import classification_report\n",
    "\n",
    "# Step 4: Model Training\n",
    "\n",
    "# Function to train a model\n",
    "def train_model(X_train, y_train):\n",
    "    model = LogisticRegression(max_iter=1000, random_state=42)\n",
    "    model.fit(X_train, y_train)\n",
    "    return model\n",
    "\n",
    "# Function to evaluate a model on labeled data\n",
    "def evaluate_model(model, X, y_true, candidate_name):\n",
    "    # Make predictions on the data\n",
    "    y_pred = model.predict(X)\n",
    "\n",
    "    # Display evaluation results\n",
    "    print(f\"\\n{candidate_name} Model Evaluation:\")\n",
    "    \n",
    "    if y_true is not None:\n",
    "        print(\"Classification Report:\\n\", classification_report(y_true, y_pred))\n",
    "\n",
    "    return y_pred\n",
    "\n",
    "# Replace the placeholders with your actual label data\n",
    "obama_training_labels = obama_assigned_class  # Replace with actual labels\n",
    "romney_training_labels = romney_assigned_class  # Replace with actual labels\n",
    "\n",
    "# Train models for Obama and Romney\n",
    "obama_model = train_model(tfidf_training_df.iloc[:len(obama_training_labels)], obama_training_labels)\n",
    "romney_model = train_model(tfidf_training_df.iloc[len(obama_training_labels):], romney_training_labels)\n",
    "\n",
    "# Make predictions on the testing data (no labels)\n",
    "obama_testing_predictions = evaluate_model(obama_model, tfidf_testing_df.iloc[:len(obama_test_cleaned_tweets_final)], None, \"Obama\")\n",
    "print(obama_testing_predictions)\n",
    "romney_testing_predictions = evaluate_model(romney_model, tfidf_testing_df.iloc[len(obama_test_cleaned_tweets_final):], None, \"Romney\")\n",
    "print(romney_testing_predictions)"
   ]
  },
  {
   "cell_type": "code",
   "execution_count": 37,
   "id": "0f9c2264-aa2c-4617-a2e0-4b1cc8f88191",
   "metadata": {},
   "outputs": [
    {
     "name": "stdout",
     "output_type": "stream",
     "text": [
      "\n",
      "Obama Predicted Labels:\n",
      "[0 0 1 ... 0 0 1]\n",
      "\n",
      "Romney Predicted Labels:\n",
      "[-1 -1 -1 -1]\n"
     ]
    }
   ],
   "source": [
    "# Function to predict labels for test data\n",
    "def predict_labels(model, X_test, candidate_name):\n",
    "    # Make predictions on the test set\n",
    "    predicted_labels = model.predict(X_test)\n",
    "\n",
    "    # Display predicted labels\n",
    "    print(f\"\\n{candidate_name} Predicted Labels:\")\n",
    "    print(predicted_labels)\n",
    "\n",
    "    return predicted_labels\n",
    "\n",
    "# Predict labels for Obama and Romney test data\n",
    "obama_predicted_labels = predict_labels(obama_model, tfidf_testing_df.iloc[:len(obama_test_cleaned_tweets_final)], \"Obama\")\n",
    "romney_predicted_labels = predict_labels(romney_model, tfidf_testing_df.iloc[len(obama_test_cleaned_tweets_final):], \"Romney\")\n"
   ]
  },
  {
   "cell_type": "code",
   "execution_count": null,
   "id": "b0f5a056-6f2b-4c4a-9e7e-9d3311ef30c4",
   "metadata": {},
   "outputs": [],
   "source": []
  },
  {
   "cell_type": "code",
   "execution_count": null,
   "id": "9c00539a-5349-406a-ad10-d67fc6b02837",
   "metadata": {},
   "outputs": [],
   "source": []
  },
  {
   "cell_type": "code",
   "execution_count": null,
   "id": "9f25cc7f-75d6-42f3-884f-807a47743db2",
   "metadata": {},
   "outputs": [],
   "source": []
  },
  {
   "cell_type": "code",
   "execution_count": null,
   "id": "6955cb02-d792-40c6-9b19-65fd746bac51",
   "metadata": {},
   "outputs": [],
   "source": []
  }
 ],
 "metadata": {
  "kernelspec": {
   "display_name": "Python 3 (ipykernel)",
   "language": "python",
   "name": "python3"
  },
  "language_info": {
   "codemirror_mode": {
    "name": "ipython",
    "version": 3
   },
   "file_extension": ".py",
   "mimetype": "text/x-python",
   "name": "python",
   "nbconvert_exporter": "python",
   "pygments_lexer": "ipython3",
   "version": "3.11.5"
  }
 },
 "nbformat": 4,
 "nbformat_minor": 5
}
